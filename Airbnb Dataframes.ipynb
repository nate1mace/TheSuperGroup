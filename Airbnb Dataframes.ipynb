{
 "cells": [
  {
   "cell_type": "code",
   "execution_count": 3,
   "metadata": {},
   "outputs": [],
   "source": [
    "import pandas as pd\n",
    "import numpy as np\n",
    "import matplotlib.pyplot as plt\n",
    "\n",
    "#this is a function online for zipcode generation (it can also give us median household income but it's unclear when it has been last updated)\n",
    "from uszipcode import SearchEngine\n",
    "search = SearchEngine(simple_zipcode=True)\n",
    "from uszipcode import Zipcode\n",
    "\n",
    "#these two don't end up being used yet\n",
    "from pprint import pprint\n",
    "import json\n",
    "\n",
    "\n",
    "abb_sept_2018 = 'AirBnB Listings/September2018.csv'\n",
    "abb_oct_2018 = 'AirBnB Listings/October2018.csv'\n",
    "abb_nov_2018 = 'AirBnB Listings/November2018.csv'\n",
    "abb_dec_2018 = 'AirBnB Listings/December2018.csv'\n",
    "abb_jan_2019 = 'AirBnB Listings/January2019.csv'\n",
    "abb_feb_2019 = 'AirBnB Listings/February2019.csv'\n",
    "abb_mar_2019 = 'AirBnB Listings/March2019.csv'\n",
    "\n",
    "df_abb_sept_2018 = pd.read_csv(abb_sept_2018)\n",
    "df_abb_oct_2018 = pd.read_csv(abb_oct_2018)\n",
    "df_abb_nov_2018 = pd.read_csv(abb_nov_2018)\n",
    "df_abb_dec_2018 = pd.read_csv(abb_dec_2018)\n",
    "df_abb_jan_2019 = pd.read_csv(abb_jan_2019)\n",
    "df_abb_feb_2019 = pd.read_csv(abb_feb_2019)\n",
    "df_abb_mar_2019 = pd.read_csv(abb_mar_2019)"
   ]
  },
  {
   "cell_type": "code",
   "execution_count": null,
   "metadata": {},
   "outputs": [],
   "source": []
  }
 ],
 "metadata": {
  "kernelspec": {
   "display_name": "Python 3",
   "language": "python",
   "name": "python3"
  },
  "language_info": {
   "codemirror_mode": {
    "name": "ipython",
    "version": 3
   },
   "file_extension": ".py",
   "mimetype": "text/x-python",
   "name": "python",
   "nbconvert_exporter": "python",
   "pygments_lexer": "ipython3",
   "version": "3.7.4"
  }
 },
 "nbformat": 4,
 "nbformat_minor": 2
}
