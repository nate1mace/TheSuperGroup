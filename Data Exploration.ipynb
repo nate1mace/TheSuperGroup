{
 "cells": [
  {
   "cell_type": "code",
   "execution_count": 1,
   "metadata": {},
   "outputs": [],
   "source": [
    "# dataset: airbnb\n",
    "# Rentals median: city zipcodes/brooklyn zipcodes\n",
    "# Sales medians: city zipcodes/brooklyn zipcodes\n",
    "# Count sales: state wide zipcodes need to trim to city/brooklyn zipcodes"
   ]
  },
  {
   "cell_type": "markdown",
   "metadata": {},
   "source": [
    "#### The analysis has three parts: summary statistics, plotting, and hypothesis testing.\n",
    "Part 1. Summary statistics"
   ]
  },
  {
   "cell_type": "code",
   "execution_count": 1,
   "metadata": {},
   "outputs": [],
   "source": [
    "import pandas as pd\n",
    "import numpy as np\n",
    "import matplotlib.pyplot as plt\n",
    "import gmplot\n",
    "import gmaps\n",
    "from scipy.stats import ttest_ind\n",
    "source1 = 'AirbnbSept19.csv'\n",
    "source2 = 'Rolling Sales NYC/rollingsales_brooklyn_2019.csv'\n",
    "\n",
    "abb_sept_2018 = 'AirBnB Listings/with zipcodes/df_abb_sept_2018.csv'\n",
    "abb_oct_2018 = 'AirBnB Listings/with zipcodes/df_abb_oct_2018.csv'\n",
    "abb_nov_2018 = 'AirBnB Listings/with zipcodes/df_abb_nov_2018.csv'\n",
    "abb_dec_2018 = 'AirBnB Listings/with zipcodes/df_abb_dec_2018.csv'\n",
    "abb_jan_2019 = 'AirBnB Listings/with zipcodes/df_abb_jan_2019.csv'\n",
    "abb_feb_2019 = 'AirBnB Listings/with zipcodes/df_abb_feb_2019.csv'\n",
    "abb_mar_2019 = 'AirBnB Listings/with zipcodes/df_abb_mar_2019.csv'\n",
    "\n",
    "df_abb_sept_2018 = pd.read_csv(abb_sept_2018)\n",
    "df_abb_oct_2018 = pd.read_csv(abb_oct_2018)\n",
    "df_abb_nov_2018 = pd.read_csv(abb_nov_2018)\n",
    "df_abb_dec_2018 = pd.read_csv(abb_dec_2018)\n",
    "df_abb_jan_2019 = pd.read_csv(abb_jan_2019)\n",
    "df_abb_feb_2019 = pd.read_csv(abb_feb_2019)\n",
    "df_abb_mar_2019 = pd.read_csv(abb_mar_2019)"
   ]
  },
  {
   "cell_type": "markdown",
   "metadata": {},
   "source": [
    "## Let's Look at only L-train neighborhood"
   ]
  },
  {
   "cell_type": "code",
   "execution_count": 18,
   "metadata": {},
   "outputs": [],
   "source": [
    "# subset dataframe only to L train zipcode neighborhoods: \n",
    "L_train_zip = [11211, 11206, 11206, 11207, 11221, 11237, 11236, 11234, 11239]\n",
    "df_abb_sept_2018_sub = df_abb_sept_2018[df_abb_sept_2018['zipcode'].isin(L_train_zip)]\n",
    "df_abb_oct_2018_sub  = df_abb_oct_2018[df_abb_oct_2018['zipcode'].isin(L_train_zip)]\n",
    "df_abb_nov_2018_sub  = df_abb_nov_2018[df_abb_nov_2018['zipcode'].isin(L_train_zip)]\n",
    "df_abb_dec_2018_sub  = df_abb_dec_2018[df_abb_dec_2018['zipcode'].isin(L_train_zip)]\n",
    "df_abb_jan_2019_sub  = df_abb_jan_2019[df_abb_jan_2019['zipcode'].isin(L_train_zip)]\n",
    "df_abb_feb_2019_sub  = df_abb_feb_2019[df_abb_feb_2019['zipcode'].isin(L_train_zip)]\n",
    "df_abb_mar_2019_sub  = df_abb_mar_2019[df_abb_mar_2019['zipcode'].isin(L_train_zip)]"
   ]
  },
  {
   "cell_type": "markdown",
   "metadata": {},
   "source": [
    "We want to know if the shut down affect the distribution airbnb availability for rentals. The median is more robust to outliers. So, we are using the median instead of the mean."
   ]
  },
  {
   "cell_type": "code",
   "execution_count": 3,
   "metadata": {},
   "outputs": [
    {
     "name": "stdout",
     "output_type": "stream",
     "text": [
      "For sept 2018, the median is 19.0 the standard deviation is 125.59390583452557\n",
      "For Dec 2019, the median is 37.0 the standard deviation is 131.24231417926208\n",
      "For Mar 2019, the median is 26.0 the standard deviation is 126.74027183407284\n"
     ]
    }
   ],
   "source": [
    "print('For sept 2018, the median is', df_abb_sept_2018_sub['availability_365'].median(), 'the standard deviation is', df_abb_sept_2018_sub['availability_365'].std())\n",
    "print('For Dec 2019, the median is', df_abb_dec_2018_sub['availability_365'].median(), 'the standard deviation is', df_abb_dec_2018_sub['availability_365'].std())\n",
    "print('For Mar 2019, the median is', df_abb_mar_2019_sub['availability_365'].median(), 'the standard deviation is', df_abb_mar_2019_sub['availability_365'].std())\n"
   ]
  },
  {
   "cell_type": "markdown",
   "metadata": {},
   "source": [
    "As shown above, shut down may affect rental. In particular, in December 2018, median rental availability went up to 37. We should expect less available rentals in Christmas month. The market is also more volatile. The standard deviation is 131.24. Hihger than both September and March."
   ]
  },
  {
   "cell_type": "markdown",
   "metadata": {},
   "source": [
    "We can't yet claim less people using Airbnb is due to L-train shutdown. We need to look at how other neighbhood did, was there also a reduction in rental? We will look at that below."
   ]
  },
  {
   "cell_type": "code",
   "execution_count": 4,
   "metadata": {},
   "outputs": [
    {
     "data": {
      "text/html": [
       "<div>\n",
       "<style scoped>\n",
       "    .dataframe tbody tr th:only-of-type {\n",
       "        vertical-align: middle;\n",
       "    }\n",
       "\n",
       "    .dataframe tbody tr th {\n",
       "        vertical-align: top;\n",
       "    }\n",
       "\n",
       "    .dataframe thead th {\n",
       "        text-align: right;\n",
       "    }\n",
       "</style>\n",
       "<table border=\"1\" class=\"dataframe\">\n",
       "  <thead>\n",
       "    <tr style=\"text-align: right;\">\n",
       "      <th></th>\n",
       "      <th>id</th>\n",
       "      <th>name</th>\n",
       "      <th>host_id</th>\n",
       "      <th>host_name</th>\n",
       "      <th>neighbourhood_group</th>\n",
       "      <th>neighbourhood</th>\n",
       "      <th>latitude</th>\n",
       "      <th>longitude</th>\n",
       "      <th>room_type</th>\n",
       "      <th>price</th>\n",
       "      <th>minimum_nights</th>\n",
       "      <th>number_of_reviews</th>\n",
       "      <th>last_review</th>\n",
       "      <th>reviews_per_month</th>\n",
       "      <th>calculated_host_listings_count</th>\n",
       "      <th>availability_365</th>\n",
       "      <th>zipcode</th>\n",
       "    </tr>\n",
       "  </thead>\n",
       "  <tbody>\n",
       "    <tr>\n",
       "      <td>2</td>\n",
       "      <td>3330</td>\n",
       "      <td>++ Brooklyn Penthouse Guestroom ++</td>\n",
       "      <td>4177</td>\n",
       "      <td>Jbee</td>\n",
       "      <td>Brooklyn</td>\n",
       "      <td>Williamsburg</td>\n",
       "      <td>40.70856</td>\n",
       "      <td>-73.94236</td>\n",
       "      <td>Private room</td>\n",
       "      <td>70</td>\n",
       "      <td>5</td>\n",
       "      <td>39</td>\n",
       "      <td>2018-12-07</td>\n",
       "      <td>0.35</td>\n",
       "      <td>3</td>\n",
       "      <td>217</td>\n",
       "      <td>11211</td>\n",
       "    </tr>\n",
       "    <tr>\n",
       "      <td>18</td>\n",
       "      <td>6848</td>\n",
       "      <td>Only 2 stops to Manhattan studio</td>\n",
       "      <td>15991</td>\n",
       "      <td>Allen &amp; Irina</td>\n",
       "      <td>Brooklyn</td>\n",
       "      <td>Williamsburg</td>\n",
       "      <td>40.70837</td>\n",
       "      <td>-73.95352</td>\n",
       "      <td>Entire home/apt</td>\n",
       "      <td>140</td>\n",
       "      <td>2</td>\n",
       "      <td>127</td>\n",
       "      <td>2019-02-27</td>\n",
       "      <td>1.07</td>\n",
       "      <td>1</td>\n",
       "      <td>183</td>\n",
       "      <td>11211</td>\n",
       "    </tr>\n",
       "    <tr>\n",
       "      <td>24</td>\n",
       "      <td>7801</td>\n",
       "      <td>Sweet and Spacious Brooklyn Loft</td>\n",
       "      <td>21207</td>\n",
       "      <td>Chaya</td>\n",
       "      <td>Brooklyn</td>\n",
       "      <td>Williamsburg</td>\n",
       "      <td>40.71842</td>\n",
       "      <td>-73.95718</td>\n",
       "      <td>Entire home/apt</td>\n",
       "      <td>299</td>\n",
       "      <td>3</td>\n",
       "      <td>9</td>\n",
       "      <td>2011-12-28</td>\n",
       "      <td>0.08</td>\n",
       "      <td>1</td>\n",
       "      <td>0</td>\n",
       "      <td>11211</td>\n",
       "    </tr>\n",
       "    <tr>\n",
       "      <td>39</td>\n",
       "      <td>11452</td>\n",
       "      <td>Clean and Quiet in Brooklyn</td>\n",
       "      <td>7355</td>\n",
       "      <td>Vt</td>\n",
       "      <td>Brooklyn</td>\n",
       "      <td>Bedford-Stuyvesant</td>\n",
       "      <td>40.68876</td>\n",
       "      <td>-73.94312</td>\n",
       "      <td>Private room</td>\n",
       "      <td>35</td>\n",
       "      <td>60</td>\n",
       "      <td>0</td>\n",
       "      <td>NaN</td>\n",
       "      <td>NaN</td>\n",
       "      <td>1</td>\n",
       "      <td>306</td>\n",
       "      <td>11221</td>\n",
       "    </tr>\n",
       "    <tr>\n",
       "      <td>40</td>\n",
       "      <td>11708</td>\n",
       "      <td>Cute apt in artist's home</td>\n",
       "      <td>44145</td>\n",
       "      <td>Tyrome</td>\n",
       "      <td>Brooklyn</td>\n",
       "      <td>Bushwick</td>\n",
       "      <td>40.70186</td>\n",
       "      <td>-73.92745</td>\n",
       "      <td>Entire home/apt</td>\n",
       "      <td>85</td>\n",
       "      <td>2</td>\n",
       "      <td>207</td>\n",
       "      <td>2019-02-03</td>\n",
       "      <td>1.82</td>\n",
       "      <td>2</td>\n",
       "      <td>33</td>\n",
       "      <td>11237</td>\n",
       "    </tr>\n",
       "    <tr>\n",
       "      <td>...</td>\n",
       "      <td>...</td>\n",
       "      <td>...</td>\n",
       "      <td>...</td>\n",
       "      <td>...</td>\n",
       "      <td>...</td>\n",
       "      <td>...</td>\n",
       "      <td>...</td>\n",
       "      <td>...</td>\n",
       "      <td>...</td>\n",
       "      <td>...</td>\n",
       "      <td>...</td>\n",
       "      <td>...</td>\n",
       "      <td>...</td>\n",
       "      <td>...</td>\n",
       "      <td>...</td>\n",
       "      <td>...</td>\n",
       "      <td>...</td>\n",
       "    </tr>\n",
       "    <tr>\n",
       "      <td>49703</td>\n",
       "      <td>32834423</td>\n",
       "      <td>Comfy room in large, dog-friendly apt w/ balcony</td>\n",
       "      <td>4094038</td>\n",
       "      <td>Alex</td>\n",
       "      <td>Brooklyn</td>\n",
       "      <td>Williamsburg</td>\n",
       "      <td>40.71036</td>\n",
       "      <td>-73.94053</td>\n",
       "      <td>Private room</td>\n",
       "      <td>65</td>\n",
       "      <td>2</td>\n",
       "      <td>0</td>\n",
       "      <td>NaN</td>\n",
       "      <td>NaN</td>\n",
       "      <td>2</td>\n",
       "      <td>56</td>\n",
       "      <td>11211</td>\n",
       "    </tr>\n",
       "    <tr>\n",
       "      <td>49726</td>\n",
       "      <td>32843179</td>\n",
       "      <td>Sunny, Stylish, Bedstuy 2 Bedroom with Plants</td>\n",
       "      <td>21001651</td>\n",
       "      <td>Tierney</td>\n",
       "      <td>Brooklyn</td>\n",
       "      <td>Bedford-Stuyvesant</td>\n",
       "      <td>40.69346</td>\n",
       "      <td>-73.94907</td>\n",
       "      <td>Entire home/apt</td>\n",
       "      <td>125</td>\n",
       "      <td>2</td>\n",
       "      <td>0</td>\n",
       "      <td>NaN</td>\n",
       "      <td>NaN</td>\n",
       "      <td>2</td>\n",
       "      <td>20</td>\n",
       "      <td>11206</td>\n",
       "    </tr>\n",
       "    <tr>\n",
       "      <td>49727</td>\n",
       "      <td>32843535</td>\n",
       "      <td>Sunny stylish room in bedstuy brownstone w/ desk</td>\n",
       "      <td>21001651</td>\n",
       "      <td>Tierney</td>\n",
       "      <td>Brooklyn</td>\n",
       "      <td>Bedford-Stuyvesant</td>\n",
       "      <td>40.69244</td>\n",
       "      <td>-73.95064</td>\n",
       "      <td>Private room</td>\n",
       "      <td>75</td>\n",
       "      <td>2</td>\n",
       "      <td>0</td>\n",
       "      <td>NaN</td>\n",
       "      <td>NaN</td>\n",
       "      <td>2</td>\n",
       "      <td>51</td>\n",
       "      <td>11206</td>\n",
       "    </tr>\n",
       "    <tr>\n",
       "      <td>49737</td>\n",
       "      <td>32845716</td>\n",
       "      <td>3 Bedroom Artist Loft in Williamsburg Prime</td>\n",
       "      <td>1019963</td>\n",
       "      <td>Renzo</td>\n",
       "      <td>Brooklyn</td>\n",
       "      <td>Williamsburg</td>\n",
       "      <td>40.71733</td>\n",
       "      <td>-73.96049</td>\n",
       "      <td>Entire home/apt</td>\n",
       "      <td>349</td>\n",
       "      <td>2</td>\n",
       "      <td>0</td>\n",
       "      <td>NaN</td>\n",
       "      <td>NaN</td>\n",
       "      <td>1</td>\n",
       "      <td>122</td>\n",
       "      <td>11211</td>\n",
       "    </tr>\n",
       "    <tr>\n",
       "      <td>49744</td>\n",
       "      <td>32849284</td>\n",
       "      <td>Chic Studio in Williamsburg</td>\n",
       "      <td>6657574</td>\n",
       "      <td>Gene</td>\n",
       "      <td>Brooklyn</td>\n",
       "      <td>Williamsburg</td>\n",
       "      <td>40.71262</td>\n",
       "      <td>-73.95842</td>\n",
       "      <td>Entire home/apt</td>\n",
       "      <td>149</td>\n",
       "      <td>2</td>\n",
       "      <td>0</td>\n",
       "      <td>NaN</td>\n",
       "      <td>NaN</td>\n",
       "      <td>3</td>\n",
       "      <td>346</td>\n",
       "      <td>11211</td>\n",
       "    </tr>\n",
       "  </tbody>\n",
       "</table>\n",
       "<p>8253 rows × 17 columns</p>\n",
       "</div>"
      ],
      "text/plain": [
       "             id                                              name   host_id  \\\n",
       "2          3330                ++ Brooklyn Penthouse Guestroom ++      4177   \n",
       "18         6848                  Only 2 stops to Manhattan studio     15991   \n",
       "24         7801                  Sweet and Spacious Brooklyn Loft     21207   \n",
       "39        11452                       Clean and Quiet in Brooklyn      7355   \n",
       "40        11708                         Cute apt in artist's home     44145   \n",
       "...         ...                                               ...       ...   \n",
       "49703  32834423  Comfy room in large, dog-friendly apt w/ balcony   4094038   \n",
       "49726  32843179     Sunny, Stylish, Bedstuy 2 Bedroom with Plants  21001651   \n",
       "49727  32843535  Sunny stylish room in bedstuy brownstone w/ desk  21001651   \n",
       "49737  32845716       3 Bedroom Artist Loft in Williamsburg Prime   1019963   \n",
       "49744  32849284                       Chic Studio in Williamsburg   6657574   \n",
       "\n",
       "           host_name neighbourhood_group       neighbourhood  latitude  \\\n",
       "2               Jbee            Brooklyn        Williamsburg  40.70856   \n",
       "18     Allen & Irina            Brooklyn        Williamsburg  40.70837   \n",
       "24             Chaya            Brooklyn        Williamsburg  40.71842   \n",
       "39                Vt            Brooklyn  Bedford-Stuyvesant  40.68876   \n",
       "40            Tyrome            Brooklyn            Bushwick  40.70186   \n",
       "...              ...                 ...                 ...       ...   \n",
       "49703           Alex            Brooklyn        Williamsburg  40.71036   \n",
       "49726        Tierney            Brooklyn  Bedford-Stuyvesant  40.69346   \n",
       "49727        Tierney            Brooklyn  Bedford-Stuyvesant  40.69244   \n",
       "49737          Renzo            Brooklyn        Williamsburg  40.71733   \n",
       "49744           Gene            Brooklyn        Williamsburg  40.71262   \n",
       "\n",
       "       longitude        room_type  price  minimum_nights  number_of_reviews  \\\n",
       "2      -73.94236     Private room     70               5                 39   \n",
       "18     -73.95352  Entire home/apt    140               2                127   \n",
       "24     -73.95718  Entire home/apt    299               3                  9   \n",
       "39     -73.94312     Private room     35              60                  0   \n",
       "40     -73.92745  Entire home/apt     85               2                207   \n",
       "...          ...              ...    ...             ...                ...   \n",
       "49703  -73.94053     Private room     65               2                  0   \n",
       "49726  -73.94907  Entire home/apt    125               2                  0   \n",
       "49727  -73.95064     Private room     75               2                  0   \n",
       "49737  -73.96049  Entire home/apt    349               2                  0   \n",
       "49744  -73.95842  Entire home/apt    149               2                  0   \n",
       "\n",
       "      last_review  reviews_per_month  calculated_host_listings_count  \\\n",
       "2      2018-12-07               0.35                               3   \n",
       "18     2019-02-27               1.07                               1   \n",
       "24     2011-12-28               0.08                               1   \n",
       "39            NaN                NaN                               1   \n",
       "40     2019-02-03               1.82                               2   \n",
       "...           ...                ...                             ...   \n",
       "49703         NaN                NaN                               2   \n",
       "49726         NaN                NaN                               2   \n",
       "49727         NaN                NaN                               2   \n",
       "49737         NaN                NaN                               1   \n",
       "49744         NaN                NaN                               3   \n",
       "\n",
       "       availability_365  zipcode  \n",
       "2                   217    11211  \n",
       "18                  183    11211  \n",
       "24                    0    11211  \n",
       "39                  306    11221  \n",
       "40                   33    11237  \n",
       "...                 ...      ...  \n",
       "49703                56    11211  \n",
       "49726                20    11206  \n",
       "49727                51    11206  \n",
       "49737               122    11211  \n",
       "49744               346    11211  \n",
       "\n",
       "[8253 rows x 17 columns]"
      ]
     },
     "execution_count": 4,
     "metadata": {},
     "output_type": "execute_result"
    }
   ],
   "source": [
    "df_abb_mar_2019_sub"
   ]
  },
  {
   "cell_type": "code",
   "execution_count": 5,
   "metadata": {},
   "outputs": [
    {
     "name": "stdout",
     "output_type": "stream",
     "text": [
      "The median of availatility for each month is:\n",
      "\n",
      "Sept    19.0\n",
      "Oct     19.0\n",
      "Nov     27.0\n",
      "Dec     37.0\n",
      "Jan     37.0\n",
      "Feb     32.0\n",
      "Mar     26.0\n",
      "dtype: float64\n"
     ]
    }
   ],
   "source": [
    "# print(df_abb_sept_2018_sub['availability_365'].median())\n",
    "# print(df_abb_oct_2018_sub['availability_365'].median())\n",
    "# print(df_abb_nov_2018_sub['availability_365'].median())\n",
    "# print(df_abb_dec_2018_sub['availability_365'].median())\n",
    "# print(df_abb_jan_2019_sub['availability_365'].median())\n",
    "# print(df_abb_feb_2019_sub['availability_365'].median())\n",
    "# print(df_abb_mar_2019_sub['availability_365'].median())\n",
    "\n",
    "median_of_availability = np.array([df_abb_sept_2018_sub['availability_365'].median(), df_abb_oct_2018_sub['availability_365'].median(), \n",
    "                          df_abb_nov_2018_sub['availability_365'].median(), df_abb_dec_2018_sub['availability_365'].median(), \n",
    "                          df_abb_jan_2019_sub['availability_365'].median(), df_abb_feb_2019_sub['availability_365'].median(), \n",
    "                          df_abb_mar_2019_sub['availability_365'].median()])\n",
    "median_of_availability = pd.Series(median_of_availability, index=['Sept', 'Oct', 'Nov', 'Dec', 'Jan', 'Feb', 'Mar'])\n",
    "print('The median of availatility for each month is:\\n')\n",
    "print(median_of_availability)"
   ]
  },
  {
   "cell_type": "code",
   "execution_count": 6,
   "metadata": {},
   "outputs": [
    {
     "data": {
      "image/png": "[encoded data removed]",
      "text/plain": [
       "<Figure size 432x288 with 1 Axes>"
      ]
     },
     "metadata": {
      "needs_background": "light"
     },
     "output_type": "display_data"
    }
   ],
   "source": [
    "# plot rental availability of L-train neighborhood\n",
    "plt.plot(median_of_availability, '.-')\n",
    "plt.title('Airbnb Median Availability from Sept 2018 to Mar 2019')\n",
    "plt.xlabel('Month of the Year 2018 to 2019')\n",
    "plt.ylabel('Median Number of Rentals')\n",
    "plt.show()"
   ]
  },
  {
   "cell_type": "markdown",
   "metadata": {},
   "source": [
    "L-train shut down did affect Airbnb rental. From the plot, we see that there is spike available rentals in Nov, Dec, and Jan. And then, less availability when L-train partially resumed after Jan 3."
   ]
  },
  {
   "cell_type": "code",
   "execution_count": 7,
   "metadata": {},
   "outputs": [
    {
     "name": "stdout",
     "output_type": "stream",
     "text": [
      "0.26319526470378724\n",
      "0.2752516867716213\n",
      "0.28499585186927184\n",
      "0.2686946548287132\n"
     ]
    }
   ],
   "source": [
    "# percentage of availabile rentals for Sept, Nov, Jan, Mar\n",
    "print(df_abb_sept_2018_sub['availability_365'].sum()/df_abb_sept_2018_sub['availability_365'].shape[0]/365)\n",
    "print(df_abb_nov_2018_sub['availability_365'].sum()/df_abb_nov_2018_sub['availability_365'].shape[0]/365)\n",
    "print(df_abb_jan_2019_sub['availability_365'].sum()/df_abb_jan_2019_sub['availability_365'].shape[0]/365)\n",
    "print(df_abb_mar_2019_sub['availability_365'].sum()/df_abb_mar_2019_sub['availability_365'].shape[0]/365)"
   ]
  },
  {
   "cell_type": "markdown",
   "metadata": {},
   "source": [
    "Compare September 2018 to January 2019, there is a reduction of 0.285-0.263 = 2.2% in rental."
   ]
  },
  {
   "cell_type": "markdown",
   "metadata": {},
   "source": [
    "## Let's look at not L-train neighborhood"
   ]
  },
  {
   "cell_type": "code",
   "execution_count": 8,
   "metadata": {},
   "outputs": [],
   "source": [
    "# not L-train neighborhood\n",
    "# Booking Trend\n",
    "df_abb_sept_2018['availability_365'].value_counts().mean()\n",
    "df_abb_sept_2018_sub_not_L_train_nbhd = df_abb_sept_2018[~df_abb_sept_2018['zipcode'].isin(L_train_zip)]\n",
    "df_abb_oct_2018_sub_not_L_train_nbhd  = df_abb_oct_2018[~df_abb_oct_2018['zipcode'].isin(L_train_zip)]\n",
    "df_abb_nov_2018_sub_not_L_train_nbhd  = df_abb_nov_2018[~df_abb_nov_2018['zipcode'].isin(L_train_zip)]\n",
    "df_abb_dec_2018_sub_not_L_train_nbhd  = df_abb_dec_2018[~df_abb_dec_2018['zipcode'].isin(L_train_zip)]\n",
    "df_abb_jan_2019_sub_not_L_train_nbhd  = df_abb_jan_2019[~df_abb_jan_2019['zipcode'].isin(L_train_zip)]\n",
    "df_abb_feb_2019_sub_not_L_train_nbhd  = df_abb_feb_2019[~df_abb_feb_2019['zipcode'].isin(L_train_zip)]\n",
    "df_abb_mar_2019_sub_not_L_train_nbhd  = df_abb_mar_2019[~df_abb_mar_2019['zipcode'].isin(L_train_zip)]"
   ]
  },
  {
   "cell_type": "code",
   "execution_count": 9,
   "metadata": {},
   "outputs": [
    {
     "name": "stdout",
     "output_type": "stream",
     "text": [
      "For sept 2018, the median is 55.0 the standard deviation is 134.66753994674025\n",
      "For Dec 2019, the median is 70.0 the standard deviation is 139.20067385394447\n",
      "For Mar 2019, the median is 65.0 the standard deviation is 135.4892941079491\n"
     ]
    }
   ],
   "source": [
    "print('For sept 2018, the median is', df_abb_sept_2018_sub_not_L_train_nbhd['availability_365'].median(), 'the standard deviation is', df_abb_sept_2018_sub_not_L_train_nbhd['availability_365'].std())\n",
    "print('For Dec 2019, the median is', df_abb_dec_2018_sub_not_L_train_nbhd['availability_365'].median(), 'the standard deviation is', df_abb_dec_2018_sub_not_L_train_nbhd['availability_365'].std())\n",
    "print('For Mar 2019, the median is', df_abb_mar_2019_sub_not_L_train_nbhd['availability_365'].median(), 'the standard deviation is', df_abb_mar_2019_sub_not_L_train_nbhd['availability_365'].std())\n"
   ]
  },
  {
   "cell_type": "code",
   "execution_count": 10,
   "metadata": {
    "scrolled": true
   },
   "outputs": [
    {
     "name": "stdout",
     "output_type": "stream",
     "text": [
      "The median of availatility for each month is:\n",
      "\n",
      "Sept    55.0\n",
      "Oct     58.0\n",
      "Nov     61.0\n",
      "Dec     70.0\n",
      "Jan     78.0\n",
      "Feb     75.0\n",
      "Mar     65.0\n",
      "dtype: float64\n"
     ]
    }
   ],
   "source": [
    "# print(df_abb_sept_2018_sub_not_L_train_nbhd ['availability_365'].median())\n",
    "# print(df_abb_oct_2018_sub_not_L_train_nbhd['availability_365'].median())\n",
    "# print(df_abb_nov_2018_sub_not_L_train_nbhd['availability_365'].median())\n",
    "# print(df_abb_dec_2018_sub_not_L_train_nbhd['availability_365'].median())\n",
    "# print(df_abb_jan_2019_sub_not_L_train_nbhd['availability_365'].median())\n",
    "# print(df_abb_feb_2019_sub_not_L_train_nbhd['availability_365'].median())\n",
    "# print(df_abb_mar_2019_sub_not_L_train_nbhd['availability_365'].median())\n",
    "\n",
    "print('The median of availatility for each month is:\\n')\n",
    "median_of_availability_not_L_train_nbhd = np.array([df_abb_sept_2018_sub_not_L_train_nbhd['availability_365'].median(), df_abb_oct_2018_sub_not_L_train_nbhd['availability_365'].median(), \n",
    "                          df_abb_nov_2018_sub_not_L_train_nbhd['availability_365'].median(), df_abb_dec_2018_sub_not_L_train_nbhd['availability_365'].median(), \n",
    "                          df_abb_jan_2019_sub_not_L_train_nbhd['availability_365'].median(), df_abb_feb_2019_sub_not_L_train_nbhd['availability_365'].median(), \n",
    "                          df_abb_mar_2019_sub_not_L_train_nbhd['availability_365'].median()])\n",
    "median_of_availability_not_L_train_nbhd = pd.Series(median_of_availability_not_L_train_nbhd, index=['Sept', 'Oct', 'Nov', 'Dec', 'Jan', 'Feb', 'Mar'])\n",
    "print(median_of_availability_not_L_train_nbhd)"
   ]
  },
  {
   "cell_type": "code",
   "execution_count": 11,
   "metadata": {},
   "outputs": [
    {
     "data": {
      "image/png": "[encoded data removed]",
      "text/plain": [
       "<Figure size 432x288 with 1 Axes>"
      ]
     },
     "metadata": {
      "needs_background": "light"
     },
     "output_type": "display_data"
    }
   ],
   "source": [
    "# plot median rental availability of L-train vs not L-train neighborhood\n",
    "plt.plot(median_of_availability, '.-', label='L-train')\n",
    "plt.plot(median_of_availability_not_L_train_nbhd, '.-', label='Not L-train')\n",
    "plt.title('Airbnb Availability L-train vs not L-train nbhd')\n",
    "plt.xlabel('Month of the Year 2018 to 2019')\n",
    "plt.ylabel('Median Number of Rentals Available')\n",
    "plt.legend()\n",
    "plt.show()"
   ]
  },
  {
   "cell_type": "code",
   "execution_count": 12,
   "metadata": {},
   "outputs": [],
   "source": [
    "# plotting\n",
    "# 1. a) scatterplot b) bar graph c) boxplot\n",
    "# 2. a) map plotted with airbnb NYC sales and rental b) distance from train: overlaying a .3 - .5 mile circle around train stations\n",
    "# 3. heatmap"
   ]
  },
  {
   "cell_type": "code",
   "execution_count": 13,
   "metadata": {},
   "outputs": [],
   "source": [
    "latitudes = df_abb_sept_2018_sub[\"latitude\"]\n",
    "longitudes = df_abb_sept_2018_sub[\"longitude\"]\n",
    "locations = df_abb_sept_2018_sub[['latitude','longitude']]"
   ]
  },
  {
   "cell_type": "code",
   "execution_count": 15,
   "metadata": {},
   "outputs": [
    {
     "data": {
      "application/vnd.jupyter.widget-view+json": {
       "model_id": "a63b64f6e9494546ba3c3aae51e9195c",
       "version_major": 2,
       "version_minor": 0
      },
      "text/plain": [
       "Figure(layout=FigureLayout(height='420px'))"
      ]
     },
     "metadata": {},
     "output_type": "display_data"
    }
   ],
   "source": [
    "# Creating the location we would like to initialize the focus on. \n",
    "# Parameters: Lattitude, Longitude, Zoom\n",
    "\n",
    "gmap = gmplot.GoogleMapPlotter(latitudes.mean(), longitudes.mean(), 12)\n",
    "gmap.heatmap(latitudes, longitudes)\n",
    "gmap.draw(\"my_heatmap.html\")\n",
    "\n",
    "fig = gmaps.figure()\n",
    "\n",
    "heat_layer = gmaps.heatmap_layer(locations,\n",
    "                                dissipating = False,\n",
    "                                point_radius = 1)\n",
    "\n",
    "fig.add_layer(heat_layer)\n",
    "fig"
   ]
  },
  {
   "cell_type": "markdown",
   "metadata": {},
   "source": [
    "We perform three hypothesis tests for September, December, and March, respectively. We want to see if there is a statistical significance between L-train and not L-train neighbhorhoods."
   ]
  },
  {
   "cell_type": "code",
   "execution_count": 20,
   "metadata": {},
   "outputs": [
    {
     "name": "stdout",
     "output_type": "stream",
     "text": [
      "Ttest_indResult(statistic=-14.224628704879674, pvalue=7.913050776111513e-46)\n",
      "Ttest_indResult(statistic=-14.476736677354367, pvalue=2.129385279399251e-47)\n",
      "Ttest_indResult(statistic=-15.002993704087904, pvalue=9.066640349370396e-51)\n"
     ]
    }
   ],
   "source": [
    "# testing hypthesis\n",
    "# t-test\n",
    "print(ttest_ind(df_abb_sept_2018_sub['availability_365'], df_abb_sept_2018_sub_not_L_train_nbhd['availability_365']))\n",
    "print(ttest_ind(df_abb_dec_2018_sub['availability_365'], df_abb_dec_2018_sub_not_L_train_nbhd['availability_365']))\n",
    "print(ttest_ind(df_abb_mar_2019_sub['availability_365'], df_abb_mar_2019_sub_not_L_train_nbhd['availability_365']))\n"
   ]
  },
  {
   "cell_type": "markdown",
   "metadata": {},
   "source": [
    "We see that the p-value for all three months have p-value close to zero. We say that there is a difference in neighborhood rental availability."
   ]
  },
  {
   "cell_type": "code",
   "execution_count": null,
   "metadata": {},
   "outputs": [],
   "source": []
  },
  {
   "cell_type": "markdown",
   "metadata": {},
   "source": [
    "Attempt to find median pricing for AirBnB Data in L train locations vs non L train locations"
   ]
  },
  {
   "cell_type": "code",
   "execution_count": 42,
   "metadata": {},
   "outputs": [
    {
     "data": {
      "text/plain": [
       "[<matplotlib.lines.Line2D at 0x1d210476f48>]"
      ]
     },
     "execution_count": 42,
     "metadata": {},
     "output_type": "execute_result"
    },
    {
     "data": {
      "image/png": "[encoded data removed]",
      "text/plain": [
       "<Figure size 432x288 with 1 Axes>"
      ]
     },
     "metadata": {
      "needs_background": "light"
     },
     "output_type": "display_data"
    }
   ],
   "source": [
    "list_L_df = [df_abb_sept_2018_sub, \n",
    "           df_abb_oct_2018_sub,\n",
    "           df_abb_nov_2018_sub,\n",
    "           df_abb_dec_2018_sub,\n",
    "           df_abb_jan_2019_sub,\n",
    "           df_abb_feb_2019_sub,\n",
    "           df_abb_mar_2019_sub]\n",
    "months = ['Sept 2018',\"Oct 2018\",\"Nov 2018\",\"Dec 2018\",\"Jan 2019\",\"Feb 2019\", \"Mar 2019\"]\n",
    "\n",
    "median_L_price = []\n",
    "mean_L_price = []\n",
    "\n",
    "\n",
    "for df_abb_x in list_L_df:\n",
    "    median_L_price.append(df_abb_x['price'].median())\n",
    "    mean_L_price.append(df_abb_x['price'].mean())\n",
    "\n",
    "df_mean_L_price = pd.DataFrame(mean_L_price, index=['Sept', 'Oct', 'Nov', 'Dec', 'Jan', 'Feb', 'Mar'])\n",
    "df_median_L_price = pd.DataFrame(median_L_price, index=['Sept', 'Oct', 'Nov', 'Dec', 'Jan', 'Feb', 'Mar'])\n",
    "\n",
    "plt.plot(df_mean_L_price[0])"
   ]
  },
  {
   "cell_type": "markdown",
   "metadata": {},
   "source": [
    "AirBnB prices for homes that are not in L train zipcodes"
   ]
  },
  {
   "cell_type": "code",
   "execution_count": 45,
   "metadata": {},
   "outputs": [
    {
     "data": {
      "text/plain": [
       "[<matplotlib.lines.Line2D at 0x1d215024948>]"
      ]
     },
     "execution_count": 45,
     "metadata": {},
     "output_type": "execute_result"
    },
    {
     "data": {
      "image/png": "[encoded data removed]",
      "text/plain": [
       "<Figure size 432x288 with 1 Axes>"
      ]
     },
     "metadata": {
      "needs_background": "light"
     },
     "output_type": "display_data"
    }
   ],
   "source": [
    "list_nyc_df = [df_abb_sept_2018_sub_not_L_train_nbhd, \n",
    "           df_abb_oct_2018_sub_not_L_train_nbhd,\n",
    "           df_abb_nov_2018_sub_not_L_train_nbhd,\n",
    "           df_abb_dec_2018_sub_not_L_train_nbhd,\n",
    "           df_abb_jan_2019_sub_not_L_train_nbhd,\n",
    "           df_abb_feb_2019_sub_not_L_train_nbhd,\n",
    "           df_abb_mar_2019_sub_not_L_train_nbhd]\n",
    "months = ['Sept 2018',\"Oct 2018\",\"Nov 2018\",\"Dec 2018\",\"Jan 2019\",\"Feb 2019\", \"Mar 2019\"]\n",
    "\n",
    "median_L_price = []\n",
    "mean_L_price = []\n",
    "\n",
    "\n",
    "for df_abb_x in list_nyc_df:\n",
    "    median_L_price.append(df_abb_x['price'].median())\n",
    "    mean_L_price.append(df_abb_x['price'].mean())\n",
    "\n",
    "df_mean_L_price = pd.DataFrame(mean_L_price, index=['Sept', 'Oct', 'Nov', 'Dec', 'Jan', 'Feb', 'Mar'])\n",
    "df_median_L_price = pd.DataFrame(median_L_price, index=['Sept', 'Oct', 'Nov', 'Dec', 'Jan', 'Feb', 'Mar'])\n",
    "\n",
    "plt.plot(df_mean_L_price[0])"
   ]
  },
  {
   "cell_type": "code",
   "execution_count": null,
   "metadata": {},
   "outputs": [],
   "source": []
  }
 ],
 "metadata": {
  "kernelspec": {
   "display_name": "Python 3",
   "language": "python",
   "name": "python3"
  },
  "language_info": {
   "codemirror_mode": {
    "name": "ipython",
    "version": 3
   },
   "file_extension": ".py",
   "mimetype": "text/x-python",
   "name": "python",
   "nbconvert_exporter": "python",
   "pygments_lexer": "ipython3",
   "version": "3.7.4"
  },
  "varInspector": {
   "cols": {
    "lenName": 16,
    "lenType": 16,
    "lenVar": 40
   },
   "kernels_config": {
    "python": {
     "delete_cmd_postfix": "",
     "delete_cmd_prefix": "del ",
     "library": "var_list.py",
     "varRefreshCmd": "print(var_dic_list())"
    },
    "r": {
     "delete_cmd_postfix": ") ",
     "delete_cmd_prefix": "rm(",
     "library": "var_list.r",
     "varRefreshCmd": "cat(var_dic_list()) "
    }
   },
   "types_to_exclude": [
    "module",
    "function",
    "builtin_function_or_method",
    "instance",
    "_Feature"
   ],
   "window_display": false
  }
 },
 "nbformat": 4,
 "nbformat_minor": 2
}
